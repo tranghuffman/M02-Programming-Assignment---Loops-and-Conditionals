{
 "cells": [
  {
   "cell_type": "code",
   "execution_count": 5,
   "id": "2199ee93",
   "metadata": {},
   "outputs": [
    {
     "name": "stdout",
     "output_type": "stream",
     "text": [
      "Secret is =  2\n",
      "Guess is = 5\n",
      "too high\n"
     ]
    }
   ],
   "source": [
    "# Choose a number between 1 and 10 and assign it to the variable secret. Then, select another number between 1 and 10 and assign it to the variable guess. Next, write the conditional tests (if, else, and elif) to print the string 'too low' if guess is less than secret, 'too high' if greater than secret, and 'just right' if equal to secret.\n",
    "\n",
    "\n",
    "# Choose a number between 1 and 10 and assign it to the variable secret\n",
    "secret = range(1,10)\n",
    "# Select another number between 1 and 10 and assign it to the variable guess\n",
    "guess = range(1,10)\n",
    "\n",
    "# Print the value of variables\n",
    "secret = int(input(\"Secret is =  \"))\n",
    "guess = int(input(\"Guess is = \"))\n",
    "\n",
    "# Checking if guess is less than secret then print too low\n",
    "if guess < secret:\n",
    "    print (\"too low\")\n",
    "# Checking if guess is greater than secret then print too high\n",
    "elif guess > secret:\n",
    "    print (\"too high\")\n",
    "# Checking if guess is equal to secret then print just right\n",
    "else:\n",
    "    print (\"just right\")"
   ]
  },
  {
   "cell_type": "code",
   "execution_count": 9,
   "id": "e6807a70",
   "metadata": {},
   "outputs": [
    {
     "name": "stdout",
     "output_type": "stream",
     "text": [
      "pea\n"
     ]
    }
   ],
   "source": [
    "# Assign True or False to the variables small and green. Write some if/else statements to print which of these matches those choices: cherry, pea, watermelon, pumpkin.\n",
    "\n",
    "small = True\n",
    "green = False\n",
    "\n",
    "if small:\n",
    "    if green:\n",
    "        print (\"cherry\")\n",
    "    else:\n",
    "        print (\"pea\")\n",
    "else:\n",
    "    if green:\n",
    "        print (\"watermelon\")\n",
    "    else:\n",
    "        print (\"pumpkin\")"
   ]
  },
  {
   "cell_type": "code",
   "execution_count": 40,
   "id": "acd18449",
   "metadata": {},
   "outputs": [
    {
     "name": "stdout",
     "output_type": "stream",
     "text": [
      "3\n",
      "2\n",
      "1\n",
      "0\n"
     ]
    }
   ],
   "source": [
    "# Use a for loop to print the values of the list [3, 2, 1, 0].\n",
    "number = 0\n",
    "\n",
    "for i in range (3, -1, -1):\n",
    "    print (i)"
   ]
  },
  {
   "cell_type": "code",
   "execution_count": 1,
   "id": "735259c3",
   "metadata": {},
   "outputs": [
    {
     "name": "stdout",
     "output_type": "stream",
     "text": [
      "too low\n",
      "too low\n",
      "too low\n",
      "too low\n",
      "too low\n",
      "too low\n",
      "found it\n"
     ]
    }
   ],
   "source": [
    "# Assign the value 7 to the variable guess_me, and the value 1 to the variable number. Write a while loop that compares number with guess_me. Print 'too low' if number is less than guess me. If number equals guess_me, print 'found it!' and then exit the loop. If number is greater than guess_me, print 'oops' and then exit the loop. Increment number at the end of the loop.\n",
    "\n",
    "# Assign the value 7 to the variable guess_me\n",
    "guess_me = 7\n",
    "# Assign the value 1 to the variable number. \n",
    "number = 1\n",
    "\n",
    "while True:\n",
    "    if number < guess_me:\n",
    "        print (\"too low\")\n",
    "    elif number == guess_me:\n",
    "        print (\"found it!\")\n",
    "        break\n",
    "    else:\n",
    "        print (\"oops\")\n",
    "        break\n",
    "    number += 1"
   ]
  },
  {
   "cell_type": "code",
   "execution_count": 4,
   "id": "bc14c344",
   "metadata": {},
   "outputs": [
    {
     "name": "stdout",
     "output_type": "stream",
     "text": [
      "too low\n",
      "too low\n",
      "too low\n",
      "too low\n",
      "too low\n",
      "found it!\n"
     ]
    }
   ],
   "source": [
    "# Assign the value 5 to the variable guess_me. Use a for loop to iterate a variable called number over range(10). If number is less than guess_me, print 'too low'. If it equals guess_me, print found it! and then break out of the for loop. If number is greater than guess_me, print 'oops' and then exit the loop.\n",
    "\n",
    "# Assign the value 5 to the variable guess_me\n",
    "guess_me = 5\n",
    "\n",
    "for number in range (10):\n",
    "    if number < guess_me:\n",
    "        print (\"too low\")\n",
    "    elif number == guess_me:\n",
    "        print (\"found it!\")\n",
    "        break\n",
    "    else:\n",
    "        print (\"oops\")\n",
    "        break"
   ]
  }
 ],
 "metadata": {
  "kernelspec": {
   "display_name": "Python 3 (ipykernel)",
   "language": "python",
   "name": "python3"
  },
  "language_info": {
   "codemirror_mode": {
    "name": "ipython",
    "version": 3
   },
   "file_extension": ".py",
   "mimetype": "text/x-python",
   "name": "python",
   "nbconvert_exporter": "python",
   "pygments_lexer": "ipython3",
   "version": "3.9.13"
  }
 },
 "nbformat": 4,
 "nbformat_minor": 5
}
